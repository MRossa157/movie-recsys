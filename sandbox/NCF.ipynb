{
 "cells": [
  {
   "cell_type": "code",
   "execution_count": null,
   "metadata": {},
   "outputs": [],
   "source": [
    "import pandas as pd\n",
    "import numpy as np\n",
    "from tqdm.notebook import tqdm\n",
    "import re\n",
    "\n",
    "import torch\n",
    "import torch.nn as nn\n",
    "from torch.utils.data import Dataset, DataLoader\n",
    "import pytorch_lightning as pl\n",
    "from pytorch_lightning.callbacks import ModelCheckpoint\n",
    "from sklearn.preprocessing import MultiLabelBinarizer\n"
   ]
  },
  {
   "cell_type": "code",
   "execution_count": null,
   "metadata": {},
   "outputs": [],
   "source": [
    "import sys\n",
    "sys.path.append('../src')\n",
    "\n",
    "import constants\n",
    "from utils import train_test_split"
   ]
  },
  {
   "cell_type": "markdown",
   "metadata": {},
   "source": [
    "# Read data"
   ]
  },
  {
   "cell_type": "code",
   "execution_count": null,
   "metadata": {},
   "outputs": [],
   "source": [
    "ratings = pd.read_csv(constants.RATINGS_PATH_SANDBOX, parse_dates=['timestamp'])"
   ]
  },
  {
   "cell_type": "markdown",
   "metadata": {},
   "source": [
    "# Data preprocessing"
   ]
  },
  {
   "cell_type": "code",
   "execution_count": null,
   "metadata": {},
   "outputs": [],
   "source": [
    "# In train propouses we will use only 30% of all ratings dataset\n",
    "rand_userIds = np.random.choice(ratings['userId'].unique(),\n",
    "                                size=int(len(ratings['userId'].unique())*0.3),\n",
    "                                replace=False)\n",
    "\n",
    "ratings = ratings.loc[ratings['userId'].isin(rand_userIds)]\n",
    "print('There are {} rows of data from {} users'.format(len(ratings), len(rand_userIds)))"
   ]
  },
  {
   "cell_type": "markdown",
   "metadata": {},
   "source": [
    "### Train-test split"
   ]
  },
  {
   "cell_type": "code",
   "execution_count": null,
   "metadata": {},
   "outputs": [],
   "source": [
    "train_ratings, test_ratings = train_test_split(ratings)"
   ]
  },
  {
   "cell_type": "code",
   "execution_count": null,
   "metadata": {},
   "outputs": [],
   "source": [
    "train_ratings.sample(5)"
   ]
  },
  {
   "cell_type": "markdown",
   "metadata": {},
   "source": [
    "# My custom dataset (MovieLense)"
   ]
  },
  {
   "cell_type": "code",
   "execution_count": null,
   "metadata": {},
   "outputs": [],
   "source": [
    "class MovieLensTrainDataset(Dataset):\n",
    "    \"\"\"MovieLens PyTorch Dataset for Training\n",
    "\n",
    "    Args:\n",
    "        ratings (pd.DataFrame): Dataframe containing the movie ratings\n",
    "        movies (pd.DataFrame): Dataframe containing information on all the movies\n",
    "\n",
    "    \"\"\"\n",
    "\n",
    "    def __init__(self, ratings: pd.DataFrame, movies: pd.DataFrame):\n",
    "        self.ratings = ratings\n",
    "        self.users, self.items, self.genre, self.release_date, self.labels = self.get_dataset(ratings, movies)\n",
    "\n",
    "    def __len__(self):\n",
    "        return len(self.users)\n",
    "\n",
    "    def __getitem__(self, idx):\n",
    "        return self.users[idx], self.items[idx], self.genre[idx], self.release_date[idx], self.labels[idx]\n",
    "\n",
    "    @staticmethod\n",
    "    def get_release_date_from_title(title: str) -> int | None:\n",
    "        match = re.search(r'\\((\\d{4})\\)', title)\n",
    "        if match:\n",
    "            return int(match.group(1))\n",
    "        return None\n",
    "\n",
    "    def get_dataset(self, ratings: pd.DataFrame, movies: pd.DataFrame):\n",
    "        # Work with copies of the ratings and movies dataframes\n",
    "        ratings = ratings.copy()\n",
    "        movies = movies.copy()\n",
    "\n",
    "        # Extract release dates from titles\n",
    "        movies['release_date'] = movies['title'].apply(self.get_release_date_from_title)\n",
    "        movies['release_date'] = movies['release_date'].fillna(0)\n",
    "        movies['release_date'] = movies['release_date'].astype(int)\n",
    "\n",
    "        # One-Hot Encoding for genres\n",
    "        movies['genres'] = movies['genres'].apply(lambda x: x.split('|'))\n",
    "        mlb = MultiLabelBinarizer()\n",
    "        genres_encoded = mlb.fit_transform(movies['genres'])\n",
    "        genres_df = pd.DataFrame(genres_encoded, columns=mlb.classes_, index=movies['movieId'])\n",
    "\n",
    "        # Merge genres and release_date with ratings\n",
    "        movies = movies.join(genres_df, on='movieId')\n",
    "        merged_df = ratings.merge(movies, on='movieId')\n",
    "\n",
    "        # Extracting final tensors\n",
    "        users = torch.tensor(merged_df['userId'].values)\n",
    "        items = torch.tensor(merged_df['movieId'].values)\n",
    "        genres = torch.tensor(merged_df[mlb.classes_].values)\n",
    "        release_dates = torch.tensor(merged_df['release_date'].values)\n",
    "        labels = torch.tensor(merged_df['rating'].values)\n",
    "\n",
    "        return users, items, genres, release_dates, labels\n",
    "\n",
    "    def get_num_users(self) -> int:\n",
    "        return self.ratings['userId'].max()\n",
    "\n",
    "    def get_num_items(self) -> int:\n",
    "        return self.ratings['movieId'].max()\n",
    "\n",
    "    def get_num_genres(self) -> int:\n",
    "        return self.genre.shape[1]\n",
    "\n",
    "    def get_max_release_date(self) -> int:\n",
    "        return self.release_date.numpy().max()\n",
    "\n",
    "    def get_min_release_date(self) -> int:\n",
    "        return self.release_date.numpy().min()"
   ]
  },
  {
   "cell_type": "markdown",
   "metadata": {},
   "source": [
    "### Example + test"
   ]
  },
  {
   "cell_type": "code",
   "execution_count": null,
   "metadata": {},
   "outputs": [],
   "source": [
    "exmpl_ratings = pd.DataFrame({\n",
    "    'userId': [1, 1, 2, 2, 2, 3, 3, 4],\n",
    "    'movieId': [101, 102, 101, 103, 104, 101, 105, 106],\n",
    "    'rating': [5, 3, 4, 5, 2, 3, 4, 5]\n",
    "})\n",
    "\n",
    "exmpl_movies = pd.DataFrame({\n",
    "    'movieId': [101, 102, 103, 104, 105, 106],\n",
    "    'title': [\"Movie A (2000)\", \"Movie B (2001)\", \"Movie C (2002)\", \"Movie D (1999)\", \"Movie E (2000)\", \"Movie F\"],\n",
    "    'genres': [\"Action|Adventure|Thriller\", \"Drama|Romance\", \"Comedy|Romance\", \"Action|Drama\", \"Thriller\", \"Adventure|Drama\"]\n",
    "})"
   ]
  },
  {
   "cell_type": "code",
   "execution_count": null,
   "metadata": {},
   "outputs": [],
   "source": [
    "exmpl_dataset = MovieLensTrainDataset(exmpl_ratings, exmpl_movies)\n",
    "movies = pd.read_csv(constants.MOVIE_PATH_SANDBOX)"
   ]
  },
  {
   "cell_type": "code",
   "execution_count": null,
   "metadata": {},
   "outputs": [],
   "source": [
    "for i in range(len(exmpl_dataset)):\n",
    "    print(exmpl_dataset[i])"
   ]
  },
  {
   "cell_type": "markdown",
   "metadata": {},
   "source": [
    "# Model Architecture"
   ]
  },
  {
   "cell_type": "code",
   "execution_count": null,
   "metadata": {},
   "outputs": [],
   "source": [
    "class NCF(pl.LightningModule):\n",
    "    \"\"\" Neural Collaborative Filtering (NCF)\n",
    "\n",
    "        Args:\n",
    "            dataset (MovieLensTrainDataset): Dataset for training\n",
    "    \"\"\"\n",
    "\n",
    "    def __init__(self, dataset: MovieLensTrainDataset):\n",
    "        super().__init__()\n",
    "        self.BATCH_SIZE = 512\n",
    "        self.dataset = dataset\n",
    "\n",
    "        self.user_embedding = nn.Embedding(num_embeddings=dataset.get_num_users() + 1, embedding_dim=8)\n",
    "        self.item_embedding = nn.Embedding(num_embeddings=dataset.get_num_items() + 1, embedding_dim=8)\n",
    "        self.genre_embedding = nn.Embedding(num_embeddings=dataset.get_num_genres() + 1, embedding_dim=8)\n",
    "\n",
    "        # min_release_date = dataset.get_min_release_date()\n",
    "        # max_release_date = dataset.get_max_release_date()\n",
    "        # num_date_embeddings = max_release_date - min_release_date + 2  # +2 to account for the -1 fill value and inclusive range\n",
    "\n",
    "        self.date_embedding = nn.Embedding(num_embeddings=dataset.get_max_release_date() + 1, embedding_dim=8)\n",
    "\n",
    "        self.genre_fc = nn.Linear(in_features=dataset.get_num_genres() * 8, out_features=8)\n",
    "\n",
    "        input_size = 8 + 8 + 8 + 8  # user_embedded + item_embedded + genre_embedded + date_embedded\n",
    "        self.fc1 = nn.Linear(in_features=input_size, out_features=64)\n",
    "        self.fc2 = nn.Linear(in_features=64, out_features=32)\n",
    "        self.output = nn.Linear(in_features=32, out_features=1)\n",
    "\n",
    "    def forward(self, user_input, item_input, genre_input, date_input):\n",
    "        # Pass through embedding layers\n",
    "        user_embedded = self.user_embedding(user_input)\n",
    "        item_embedded = self.item_embedding(item_input)\n",
    "        genre_embedded = self.genre_embedding(genre_input)\n",
    "        # Flatten the genre embeddings and pass through linear layer\n",
    "        genre_embedded = genre_embedded.view(genre_embedded.size(0), -1)\n",
    "        genre_embedded = self.genre_fc(genre_embedded)\n",
    "\n",
    "        # Shift date input to start from 0 for embedding lookup\n",
    "        # min_release_date = self.dataset.get_min_release_date()\n",
    "        # date_input = date_input - min_release_date + 1\n",
    "        date_embedded = self.date_embedding(date_input)\n",
    "\n",
    "        # Item embedding = movie_id + movie_genre + movie_release_date\n",
    "        item_embedded = torch.cat([item_embedded, genre_embedded, date_embedded], dim=-1)\n",
    "\n",
    "        # Concat the two embedding layers\n",
    "        vector = torch.cat([user_embedded, item_embedded], dim=-1)\n",
    "\n",
    "        # Pass through dense layers\n",
    "        vector = nn.ReLU()(self.fc1(vector))\n",
    "        vector = nn.ReLU()(self.fc2(vector))\n",
    "\n",
    "        # Output layer with clamp to ensure rating range\n",
    "        pred = torch.clamp(self.output(vector), min=1.0, max=5.0)\n",
    "\n",
    "        return pred\n",
    "\n",
    "    def training_step(self, batch, batch_idx):\n",
    "        user_input, item_input, genre_input, date_input, labels = batch\n",
    "        predicted_labels = self(user_input, item_input, genre_input, date_input)\n",
    "        loss = nn.MSELoss()(predicted_labels, labels.view(-1, 1).float())\n",
    "        self.log('train_loss', loss, prog_bar=True)\n",
    "        return loss\n",
    "\n",
    "    def configure_optimizers(self):\n",
    "        return torch.optim.Adam(self.parameters())\n",
    "\n",
    "    def train_dataloader(self):\n",
    "        return DataLoader(self.dataset, batch_size=512, num_workers=0)"
   ]
  },
  {
   "cell_type": "code",
   "execution_count": null,
   "metadata": {},
   "outputs": [],
   "source": [
    "movies = pd.read_csv(constants.MOVIE_PATH_SANDBOX)\n",
    "train_dataset = MovieLensTrainDataset(train_ratings, movies)\n",
    "model = NCF(train_dataset)"
   ]
  },
  {
   "cell_type": "code",
   "execution_count": null,
   "metadata": {},
   "outputs": [],
   "source": [
    "checkpoint_callback = ModelCheckpoint(dirpath=r'../src/weights/',\n",
    "                                          filename='{epoch}-{train_loss:.2f}',\n",
    "                                          monitor=\"train_loss\")\n",
    "trainer = pl.Trainer(max_epochs=5,\n",
    "                    devices=\"auto\", accelerator=\"auto\",\n",
    "                    fast_dev_run=False,\n",
    "                    logger=False,\n",
    "                    callbacks=[checkpoint_callback])"
   ]
  },
  {
   "cell_type": "code",
   "execution_count": null,
   "metadata": {},
   "outputs": [],
   "source": [
    "trainer.fit(model)"
   ]
  },
  {
   "cell_type": "code",
   "execution_count": null,
   "metadata": {},
   "outputs": [],
   "source": [
    "model = NCF.load_from_checkpoint(r\"../src/weights/NCF_FINAL_epoch.ckpt\", dataset=train_dataset)"
   ]
  },
  {
   "cell_type": "code",
   "execution_count": null,
   "metadata": {},
   "outputs": [],
   "source": [
    "#TODO посмотреть что лежит в prediction; сравнить с labels; посчитать метрики MAP и Hit Ratio@6"
   ]
  }
 ],
 "metadata": {
  "kernelspec": {
   "display_name": ".venv",
   "language": "python",
   "name": "python3"
  },
  "language_info": {
   "codemirror_mode": {
    "name": "ipython",
    "version": 3
   },
   "file_extension": ".py",
   "mimetype": "text/x-python",
   "name": "python",
   "nbconvert_exporter": "python",
   "pygments_lexer": "ipython3",
   "version": "3.12.2"
  }
 },
 "nbformat": 4,
 "nbformat_minor": 2
}
