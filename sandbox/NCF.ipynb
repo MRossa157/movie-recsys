{
 "cells": [
  {
   "cell_type": "code",
   "execution_count": null,
   "metadata": {},
   "outputs": [],
   "source": [
    "import pandas as pd\n",
    "import numpy as np\n",
    "from tqdm.notebook import tqdm\n",
    "import re\n",
    "\n",
    "import torch\n",
    "import torch.nn as nn\n",
    "from torch.utils.data import Dataset, DataLoader\n",
    "import pytorch_lightning as pl\n",
    "from sklearn.preprocessing import MultiLabelBinarizer\n"
   ]
  },
  {
   "cell_type": "code",
   "execution_count": null,
   "metadata": {},
   "outputs": [],
   "source": [
    "import sys\n",
    "sys.path.append('../src')\n",
    "\n",
    "import constants\n",
    "from utils import train_test_split"
   ]
  },
  {
   "cell_type": "markdown",
   "metadata": {},
   "source": [
    "# Read data"
   ]
  },
  {
   "cell_type": "code",
   "execution_count": null,
   "metadata": {},
   "outputs": [],
   "source": [
    "ratings = pd.read_csv(constants.RATINGS_PATH_SANDBOX, parse_dates=['timestamp'])"
   ]
  },
  {
   "cell_type": "markdown",
   "metadata": {},
   "source": [
    "# Data preprocessing"
   ]
  },
  {
   "cell_type": "code",
   "execution_count": null,
   "metadata": {},
   "outputs": [],
   "source": [
    "# In train propouses we will use only 30% of all ratings dataset\n",
    "rand_userIds = np.random.choice(ratings['userId'].unique(),\n",
    "                                size=int(len(ratings['userId'].unique())*0.3),\n",
    "                                replace=False)\n",
    "\n",
    "ratings = ratings.loc[ratings['userId'].isin(rand_userIds)]\n",
    "print('There are {} rows of data from {} users'.format(len(ratings), len(rand_userIds)))"
   ]
  },
  {
   "cell_type": "markdown",
   "metadata": {},
   "source": [
    "### Train-test split"
   ]
  },
  {
   "cell_type": "code",
   "execution_count": null,
   "metadata": {},
   "outputs": [],
   "source": [
    "train_ratings, test_ratings = train_test_split(ratings)"
   ]
  },
  {
   "cell_type": "code",
   "execution_count": null,
   "metadata": {},
   "outputs": [],
   "source": [
    "train_ratings.sample(5)"
   ]
  },
  {
   "cell_type": "markdown",
   "metadata": {},
   "source": [
    "# Our custom MovieLense Dataset"
   ]
  },
  {
   "cell_type": "code",
   "execution_count": null,
   "metadata": {},
   "outputs": [],
   "source": [
    "class MovieLensTrainDataset(Dataset):\n",
    "    \"\"\"MovieLens PyTorch Dataset for Training\n",
    "\n",
    "    Args:\n",
    "        ratings (pd.DataFrame): Dataframe containing the movie ratings\n",
    "        movies (pd.DataFrame): Dataframe containing information on all the movies\n",
    "\n",
    "    \"\"\"\n",
    "\n",
    "    def __init__(self, ratings: pd.DataFrame, movies: pd.DataFrame):\n",
    "        self.users, self.items, self.genre, self.release_date, self.labels = self.get_dataset(ratings, movies)\n",
    "\n",
    "    def __len__(self):\n",
    "        return len(self.users)\n",
    "\n",
    "    def __getitem__(self, idx):\n",
    "        return self.users[idx], self.items[idx], self.genre[idx], self.release_date[idx], self.labels[idx]\n",
    "\n",
    "    @staticmethod\n",
    "    def get_release_date_from_title(title: str) -> int | None:\n",
    "        match = re.search(r'\\((\\d{4})\\)', title)\n",
    "        if match:\n",
    "            return int(match.group(1))\n",
    "        return None\n",
    "\n",
    "    def get_dataset(self, ratings: pd.DataFrame, movies: pd.DataFrame):\n",
    "        ratings = ratings.copy()\n",
    "        movies = movies.copy()\n",
    "\n",
    "        # Work with ratings dataframe\n",
    "        users = ratings['userId'].tolist()\n",
    "        items = ratings['movieId'].tolist()\n",
    "        labels = ratings['rating'].tolist()\n",
    "\n",
    "        # Work with movies dataframe\n",
    "        movies['genres'] = movies['genres'].apply(lambda x: x.split('|'))\n",
    "        # One-Hot Encoding for genres\n",
    "        mlb = MultiLabelBinarizer()\n",
    "        genres_encoded = mlb.fit_transform(movies['genres'])\n",
    "        genres_df = pd.DataFrame(genres_encoded, columns=mlb.classes_, index=movies['movieId'])\n",
    "        # Map genres to rating\n",
    "        genres = [genres_df.loc[movie_id].values for movie_id in items]\n",
    "\n",
    "        # Regex for release_date\n",
    "        movies['release_date'] = movies['title'].apply(self.get_release_date_from_title)\n",
    "        release_dates_df = movies.set_index('movieId')['release_date'].fillna(-1).astype(int)\n",
    "        # Map release dates to ratings\n",
    "        release_dates = [release_dates_df.loc[movie_id] for movie_id in items]\n",
    "\n",
    "        return (\n",
    "            torch.tensor(users),\n",
    "            torch.tensor(items),\n",
    "            torch.tensor(genres),\n",
    "            torch.tensor(release_dates),\n",
    "            torch.tensor(labels)\n",
    "        )\n",
    "\n",
    "    def get_num_users(self) -> int:\n",
    "        return len(self.users)\n",
    "\n",
    "    def get_num_items(self) -> int:\n",
    "        return len(self.items)\n",
    "\n",
    "    def get_num_genres(self) -> int:\n",
    "        return self.genre.shape[1]"
   ]
  },
  {
   "cell_type": "markdown",
   "metadata": {},
   "source": [
    "### Example + test"
   ]
  },
  {
   "cell_type": "code",
   "execution_count": null,
   "metadata": {},
   "outputs": [],
   "source": [
    "exmpl_ratings = pd.DataFrame({\n",
    "    'userId': [1, 1, 2, 2, 2, 3, 3, 4],\n",
    "    'movieId': [101, 102, 101, 103, 104, 101, 105, 106],\n",
    "    'rating': [5, 3, 4, 5, 2, 3, 4, 5]\n",
    "})\n",
    "\n",
    "exmpl_movies = pd.DataFrame({\n",
    "    'movieId': [101, 102, 103, 104, 105, 106],\n",
    "    'title': [\"Movie A (2000)\", \"Movie B (2001)\", \"Movie C (2002)\", \"Movie D (1999)\", \"Movie E (2000)\", \"Movie F\"],\n",
    "    'genres': [\"Action|Adventure|Thriller\", \"Drama|Romance\", \"Comedy|Romance\", \"Action|Drama\", \"Thriller\", \"Adventure|Drama\"]\n",
    "})"
   ]
  },
  {
   "cell_type": "code",
   "execution_count": null,
   "metadata": {},
   "outputs": [],
   "source": [
    "exmpl_dataset = MovieLensTrainDataset(exmpl_ratings, exmpl_movies)"
   ]
  },
  {
   "cell_type": "code",
   "execution_count": null,
   "metadata": {},
   "outputs": [],
   "source": [
    "for i in range(len(exmpl_dataset)):\n",
    "    print(exmpl_dataset[i])"
   ]
  },
  {
   "cell_type": "markdown",
   "metadata": {},
   "source": [
    "# Model Architecture"
   ]
  },
  {
   "cell_type": "code",
   "execution_count": null,
   "metadata": {},
   "outputs": [],
   "source": [
    "class NCF(pl.LightningModule):\n",
    "    \"\"\" Neural Collaborative Filtering (NCF)\n",
    "\n",
    "        Args:\n",
    "            dataset (MovieLensTrainDataset): Dataset for training\n",
    "    \"\"\"\n",
    "\n",
    "    def __init__(self, dataset: MovieLensTrainDataset):\n",
    "        super().__init__()\n",
    "        self.user_embedding = nn.Embedding(num_embeddings=dataset.get_num_users(), embedding_dim=8)\n",
    "        self.item_embedding = nn.Embedding(num_embeddings=dataset.get_num_items(), embedding_dim=8)\n",
    "        self.genre_embedding = nn.Linear(num_embeddings=dataset.get_num_genres(), embedding_dim=8)\n",
    "        self.date_embedding = nn.Embedding(num_embeddings=124, embedding_dim=8) # from 1891 to 2015\n",
    "\n",
    "        # 8 * 4(count of embedding) = 32 in_features\n",
    "        self.fc1 = nn.Linear(in_features=32, out_features=64)\n",
    "        self.fc2 = nn.Linear(in_features=64, out_features=32)\n",
    "        self.output = nn.Linear(in_features=32, out_features=1)\n",
    "        self.dataset = dataset\n",
    "\n",
    "    def forward(self, user_input, item_input, genre_input, date_input):\n",
    "\n",
    "        # Pass through embedding layers\n",
    "        user_embedded = self.user_embedding(user_input)\n",
    "        item_embedded = self.item_embedding(item_input)\n",
    "        genre_embedded = self.genre_embedding(genre_input)\n",
    "        date_embedded = self.date_embedding(date_input)\n",
    "\n",
    "        # Item embedding = movie_id + movie_genre + movie_release_date\n",
    "        item_embedded = item_embedded + genre_embedded + date_embedded\n",
    "\n",
    "        # Concat the two embedding layers\n",
    "        vector = torch.cat([user_embedded, item_embedded], dim=-1)\n",
    "\n",
    "        # Pass through dense layer\n",
    "        vector = nn.ReLU()(self.fc1(vector))\n",
    "        vector = nn.ReLU()(self.fc2(vector))\n",
    "\n",
    "        # Output layer with clamp to ensure rating range\n",
    "        pred = torch.clamp(self.output(vector), min=1.0, max=5.0)\n",
    "\n",
    "        return pred\n",
    "\n",
    "    def training_step(self, batch, batch_idx):\n",
    "        user_input, item_input, genre_input, date_input, labels = batch\n",
    "        predicted_labels = self(user_input, item_input, genre_input, date_input)\n",
    "        loss = nn.MSELoss()(predicted_labels, labels.view(-1, 1).float())\n",
    "        return loss\n",
    "\n",
    "    def configure_optimizers(self):\n",
    "        return torch.optim.Adam(self.parameters())\n",
    "\n",
    "    def train_dataloader(self):\n",
    "        return DataLoader(self.dataset, batch_size=512, num_workers=0)\n",
    "        # Если вы запускаете код на Google colab то можете выставить num_workers=5 (НЕ ПРОВЕРЕННО). В данный момент стоит 0, т.к:\n",
    "        # jupyter notebook might not work properly with multiprocessing as documented (https://stackoverflow.com/a/71193241/16733101)"
   ]
  },
  {
   "cell_type": "code",
   "execution_count": null,
   "metadata": {},
   "outputs": [],
   "source": [
    "movies = pd.read_csv(constants.MOVIE_PATH_SANDBOX)\n",
    "train_dataset = MovieLensTrainDataset(train_ratings, movies)"
   ]
  },
  {
   "cell_type": "code",
   "execution_count": null,
   "metadata": {},
   "outputs": [],
   "source": [
    "print(train_dataset.get_num_users(), train_dataset.get_num_items(), train_dataset.get_num_genres())"
   ]
  },
  {
   "cell_type": "code",
   "execution_count": null,
   "metadata": {},
   "outputs": [],
   "source": [
    "model = NCF(train_dataset)"
   ]
  }
 ],
 "metadata": {
  "kernelspec": {
   "display_name": ".venv",
   "language": "python",
   "name": "python3"
  },
  "language_info": {
   "codemirror_mode": {
    "name": "ipython",
    "version": 3
   },
   "file_extension": ".py",
   "mimetype": "text/x-python",
   "name": "python",
   "nbconvert_exporter": "python",
   "pygments_lexer": "ipython3",
   "version": "3.12.2"
  }
 },
 "nbformat": 4,
 "nbformat_minor": 2
}
