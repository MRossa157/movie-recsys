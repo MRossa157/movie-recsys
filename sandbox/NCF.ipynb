{
 "cells": [
  {
   "cell_type": "code",
   "execution_count": null,
   "metadata": {},
   "outputs": [],
   "source": [
    "import pandas as pd\n",
    "import numpy as np\n",
    "\n",
    "import torch\n",
    "import torch.nn as nn\n",
    "from torch.utils.data import Dataset, DataLoader\n",
    "import pytorch_lightning as pl\n",
    "from pytorch_lightning.callbacks import ModelCheckpoint\n",
    "\n",
    "import warnings\n",
    "warnings.filterwarnings('ignore')"
   ]
  },
  {
   "cell_type": "code",
   "execution_count": null,
   "metadata": {},
   "outputs": [],
   "source": [
    "import sys\n",
    "sys.path.append('../src')\n",
    "\n",
    "import constants\n",
    "from utils import train_test_split"
   ]
  },
  {
   "cell_type": "markdown",
   "metadata": {},
   "source": [
    "# Read data"
   ]
  },
  {
   "cell_type": "code",
   "execution_count": null,
   "metadata": {},
   "outputs": [],
   "source": [
    "ratings = pd.read_csv(constants.RATINGS_PATH_SANDBOX, parse_dates=['timestamp'])"
   ]
  },
  {
   "cell_type": "markdown",
   "metadata": {},
   "source": [
    "# Data preprocessing"
   ]
  },
  {
   "cell_type": "code",
   "execution_count": null,
   "metadata": {},
   "outputs": [],
   "source": [
    "# In train propouses we will use only 30% of all ratings dataset\n",
    "rand_userIds = np.random.choice(ratings['userId'].unique(),\n",
    "                                size=int(len(ratings['userId'].unique())*0.3),\n",
    "                                replace=False)\n",
    "\n",
    "ratings = ratings.loc[ratings['userId'].isin(rand_userIds)]\n",
    "print('There are {} rows of data from {} users'.format(len(ratings), len(rand_userIds)))"
   ]
  },
  {
   "cell_type": "markdown",
   "metadata": {},
   "source": [
    "### Train-test split"
   ]
  },
  {
   "cell_type": "code",
   "execution_count": null,
   "metadata": {},
   "outputs": [],
   "source": [
    "train_ratings, test_ratings = train_test_split(ratings)"
   ]
  },
  {
   "cell_type": "code",
   "execution_count": null,
   "metadata": {},
   "outputs": [],
   "source": [
    "train_ratings.sample(5)"
   ]
  },
  {
   "cell_type": "code",
   "execution_count": null,
   "metadata": {},
   "outputs": [],
   "source": [
    "train_ratings[train_ratings['rating'] == 0.5]"
   ]
  },
  {
   "cell_type": "markdown",
   "metadata": {},
   "source": [
    "# My custom dataset (MovieLense)"
   ]
  },
  {
   "cell_type": "code",
   "execution_count": null,
   "metadata": {},
   "outputs": [],
   "source": [
    "class MovieLensTrainDataset(Dataset):\n",
    "    \"\"\"MovieLens PyTorch Dataset for Training\n",
    "\n",
    "    Args:\n",
    "        ratings (pd.DataFrame): Dataframe containing the movie ratings\n",
    "    \"\"\"\n",
    "\n",
    "    def __init__(self, ratings: pd.DataFrame):\n",
    "        self.ratings = ratings.copy()\n",
    "        self.users, self.items, self.labels = self.get_dataset(self.ratings)\n",
    "\n",
    "    def __len__(self):\n",
    "        return len(self.users)\n",
    "\n",
    "    def __getitem__(self, idx):\n",
    "        return self.users[idx], self.items[idx], self.labels[idx]\n",
    "\n",
    "    def get_dataset(self, ratings):\n",
    "\n",
    "        # Перевод оценок\n",
    "        ratings['rating'] *= 2  # умножаем на 2, чтобы перейти к 10-балльной шкале\n",
    "\n",
    "        users = ratings['userId'].values\n",
    "        items = ratings['movieId'].values\n",
    "        labels = ratings['rating'].values\n",
    "\n",
    "        return torch.tensor(users), torch.tensor(items), torch.tensor(labels)"
   ]
  },
  {
   "cell_type": "markdown",
   "metadata": {},
   "source": [
    "# Model Architecture"
   ]
  },
  {
   "cell_type": "code",
   "execution_count": null,
   "metadata": {},
   "outputs": [],
   "source": [
    "class NCF(pl.LightningModule):\n",
    "    \"\"\" Neural Collaborative Filtering (NCF)\n",
    "\n",
    "        Args:\n",
    "            num_users (int): Number of unique users (train + test)\n",
    "            num_items (int): Number of unique items (train + test)\n",
    "            train_ratings (pd.DataFrame): Dataframe containing the movie ratings for training\n",
    "            val_ratings (pd.DataFrame): Dataframe containing the movie ratings for validating\n",
    "    \"\"\"\n",
    "\n",
    "    def __init__(self, num_users, num_items, train_ratings, val_ratings):\n",
    "        super().__init__()\n",
    "        self.dataset = MovieLensTrainDataset(train_ratings)\n",
    "        self.validation_dataset = MovieLensTrainDataset(val_ratings)\n",
    "\n",
    "        self.user_embedding = nn.Embedding(num_embeddings=num_users, embedding_dim=8)\n",
    "        self.item_embedding = nn.Embedding(num_embeddings=num_items, embedding_dim=8)\n",
    "\n",
    "        input_size = 8 + 8  # user_embedded + item_embedded\n",
    "        self.fc1 = nn.Linear(in_features=input_size, out_features=64)\n",
    "        self.fc2 = nn.Linear(in_features=64, out_features=32)\n",
    "        self.output = nn.Linear(in_features=32, out_features=11)\n",
    "\n",
    "        self.loss = nn.CrossEntropyLoss()\n",
    "\n",
    "        self.dropout = nn.Dropout(0.5)\n",
    "\n",
    "\n",
    "    def forward(self, user_input, item_input):\n",
    "        # Pass through embedding layers\n",
    "        user_embedded = self.user_embedding(user_input)\n",
    "        item_embedded = self.item_embedding(item_input)\n",
    "\n",
    "        # Concat the two embedding layers\n",
    "        vector = torch.cat([user_embedded, item_embedded], dim=-1)\n",
    "\n",
    "        # Pass through dense layers\n",
    "        vector = self.dropout(nn.ReLU()(self.fc1(vector)))\n",
    "        vector = self.dropout(nn.ReLU()(self.fc2(vector)))\n",
    "\n",
    "        pred = self.output(vector)\n",
    "\n",
    "        return pred\n",
    "\n",
    "    def training_step(self, batch, batch_idx):\n",
    "        user_input, item_input, labels = batch\n",
    "        labels = labels.long()  # Ensure that labels are in the correct type\n",
    "        predicted_logits = self(user_input, item_input)\n",
    "\n",
    "        loss = self.loss(predicted_logits, labels)\n",
    "\n",
    "        self.log('train_loss', loss, prog_bar=True)\n",
    "        return loss\n",
    "\n",
    "    def validation_step(self, batch, batch_idx):\n",
    "        user_input, item_input, labels = batch\n",
    "        labels = labels.long()\n",
    "        predicted_logits = self(user_input, item_input)\n",
    "\n",
    "        loss = self.loss(predicted_logits, labels)\n",
    "\n",
    "        self.log('val_loss', loss, prog_bar=True)\n",
    "        return loss\n",
    "\n",
    "    def configure_optimizers(self):\n",
    "        optimizer = torch.optim.Adam(self.parameters(), lr=0.001)\n",
    "        scheduler = torch.optim.lr_scheduler.StepLR(optimizer, step_size=10, gamma=0.1)\n",
    "        return [optimizer], [scheduler]\n",
    "\n",
    "    def train_dataloader(self):\n",
    "        return DataLoader(self.dataset, batch_size=512, num_workers=5, persistent_workers=True)\n",
    "\n",
    "    def val_dataloader(self):\n",
    "        return DataLoader(self.validation_dataset, batch_size=512, num_workers=5, persistent_workers=True)\n"
   ]
  },
  {
   "cell_type": "code",
   "execution_count": null,
   "metadata": {},
   "outputs": [],
   "source": [
    "num_users = ratings['userId'].max()+1\n",
    "num_items = ratings['movieId'].max()+1\n",
    "\n",
    "model = NCF(num_users, num_items, train_ratings, test_ratings)"
   ]
  },
  {
   "cell_type": "code",
   "execution_count": null,
   "metadata": {},
   "outputs": [],
   "source": [
    "checkpoint_callback = ModelCheckpoint(dirpath=r'weights/',\n",
    "                                      filename='{epoch}-{train_loss:.2f}',\n",
    "                                      monitor=\"train_loss\")\n",
    "trainer = pl.Trainer(max_epochs=5,\n",
    "                    devices=\"auto\", accelerator=\"auto\",\n",
    "                    logger=False,\n",
    "                    callbacks=[checkpoint_callback],\n",
    "                    fast_dev_run=False,)"
   ]
  },
  {
   "cell_type": "code",
   "execution_count": null,
   "metadata": {},
   "outputs": [],
   "source": [
    "trainer.fit(model)"
   ]
  },
  {
   "cell_type": "code",
   "execution_count": null,
   "metadata": {},
   "outputs": [],
   "source": [
    "trainer.save_checkpoint(r\"weights/NCF_FINAL_epoch.ckpt\")"
   ]
  },
  {
   "cell_type": "code",
   "execution_count": null,
   "metadata": {},
   "outputs": [],
   "source": [
    "model = NCF.load_from_checkpoint(r\"../src/weights/epoch=3-val_loss=1.79.ckpt\",\n",
    "                                 num_users=num_users,\n",
    "                                 num_items=num_items,\n",
    "                                 train_ratings=train_ratings,\n",
    "                                 val_ratings=test_ratings)"
   ]
  },
  {
   "cell_type": "code",
   "execution_count": null,
   "metadata": {},
   "outputs": [],
   "source": [
    "model = model.to('cpu')"
   ]
  },
  {
   "cell_type": "code",
   "execution_count": null,
   "metadata": {},
   "outputs": [],
   "source": [
    "user_id, item_id, labels = model.validation_dataset[532]\n",
    "user_id = user_id.unsqueeze(0)\n",
    "item_id = item_id.unsqueeze(0)\n",
    "predicted_logits = model(user_id, item_id)\n",
    "predicted_probs = nn.Softmax(dim=1)(predicted_logits)\n",
    "predicted_class = torch.argmax(predicted_probs, dim=1)\n",
    "predicted_class"
   ]
  },
  {
   "cell_type": "code",
   "execution_count": null,
   "metadata": {},
   "outputs": [],
   "source": [
    "labels"
   ]
  }
 ],
 "metadata": {
  "kernelspec": {
   "display_name": ".venv",
   "language": "python",
   "name": "python3"
  },
  "language_info": {
   "codemirror_mode": {
    "name": "ipython",
    "version": 3
   },
   "file_extension": ".py",
   "mimetype": "text/x-python",
   "name": "python",
   "nbconvert_exporter": "python",
   "pygments_lexer": "ipython3",
   "version": "3.12.2"
  }
 },
 "nbformat": 4,
 "nbformat_minor": 2
}
